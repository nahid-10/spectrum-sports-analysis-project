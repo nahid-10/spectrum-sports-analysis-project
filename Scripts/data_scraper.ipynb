{
 "cells": [
  {
   "cell_type": "markdown",
   "id": "1184f34c",
   "metadata": {
    "ExecuteTime": {
     "end_time": "2025-07-04T09:34:17.196895Z",
     "start_time": "2025-07-04T09:34:17.187765Z"
    }
   },
   "source": [
    "<!-- Markdown Cell -->\n",
    "\n",
    "<h2 style=\"color: #2c3e50; background-color: #ecf0f1; padding: 10px; border-left: 5px solid #3498db; font-family: Arial;\">\n",
    "  📦 Import Required Libraries\n",
    "</h2>\n",
    "\n",
    "<div style=\"background-color: #f9f9f9; padding: 10px; border-left: 4px solid #7f8c8d; font-family: Arial;\">\n",
    "  In this section, I am importing the essential Python libraries required for data processing, visualization, and cleaning.\n",
    "</div>\n"
   ]
  },
  {
   "cell_type": "code",
   "execution_count": 1,
   "id": "7e90b6ac",
   "metadata": {
    "ExecuteTime": {
     "end_time": "2025-07-06T04:19:14.383788Z",
     "start_time": "2025-07-06T04:19:11.025343Z"
    }
   },
   "outputs": [],
   "source": [
    "import pandas as pd\n",
    "import missingno as msno\n",
    "from ydata_profiling import ProfileReport"
   ]
  },
  {
   "cell_type": "markdown",
   "id": "71dd5de0",
   "metadata": {},
   "source": [
    "<h2 style=\"color: #2c3e50; background-color: #eaf2f8; padding: 12px; border-left: 6px solid #2980b9; font-family: Arial;\">\n",
    "  🌐 Load Dataset from FBref Website\n",
    "</h2>\n",
    "\n",
    "<div style=\"background-color: #fdfefe; padding: 10px 15px; border-left: 4px solid #5dade2; font-family: Arial; font-size: 15px; line-height: 1.6;\">\n",
    "  I am using football data scraped from the official <strong><a href=\"https://fbref.com\" target=\"_blank\" style=\"color:#2980b9; text-decoration:none;\">FBref</a></strong> website. This dataset includes data from top 5 league(Epl, La Liga, Serie A, Bundesliga,Ligue 1). It includes advanced player statistics such as goals, assists, xG, and minutes played per 90 minutes.\n",
    "  <br><br>\n",
    "  ✅ <strong>Source URL:</strong> \n",
    "  <a href=\"https://fbref.com/en/comps/Big5/stats/players/Big-5-European-Leagues-Stats\" target=\"_blank\" style=\"color:#1a5276; font-weight:bold;\">\n",
    "    \"https://fbref.com/en/comps/Big5/stats/players/Big-5-European-Leagues-Stats\"\n",
    "  </a>\n",
    "</div>\n"
   ]
  },
  {
   "cell_type": "code",
   "execution_count": 2,
   "id": "c5c82305",
   "metadata": {
    "ExecuteTime": {
     "end_time": "2025-07-06T04:19:14.392661Z",
     "start_time": "2025-07-06T04:19:14.384259Z"
    }
   },
   "outputs": [],
   "source": [
    "url=\"https://fbref.com/en/comps/Big5/stats/players/Big-5-European-Leagues-Stats\""
   ]
  },
  {
   "cell_type": "code",
   "execution_count": 3,
   "id": "803ebc1a",
   "metadata": {
    "ExecuteTime": {
     "end_time": "2025-07-06T04:19:21.449004Z",
     "start_time": "2025-07-06T04:19:14.394911Z"
    }
   },
   "outputs": [],
   "source": [
    "# Read table using header=1 to skip the unnecessary first row\n",
    "\n",
    "tables=pd.read_html(url,header=[1])"
   ]
  },
  {
   "cell_type": "code",
   "execution_count": 4,
   "id": "2f7ce615",
   "metadata": {
    "ExecuteTime": {
     "end_time": "2025-07-06T04:19:21.459916Z",
     "start_time": "2025-07-06T04:19:21.449004Z"
    }
   },
   "outputs": [],
   "source": [
    "# Since the FBref page contains only one table, we directly access it using tables[0]\n",
    "df = tables[0]"
   ]
  },
  {
   "cell_type": "code",
   "execution_count": 5,
   "id": "8e8ba5bf",
   "metadata": {
    "ExecuteTime": {
     "end_time": "2025-07-06T04:19:21.477074Z",
     "start_time": "2025-07-06T04:19:21.467353Z"
    }
   },
   "outputs": [],
   "source": [
    "# Display all columns in the DataFrame output without truncation\n",
    "pd.set_option('display.max_columns', None)"
   ]
  },
  {
   "cell_type": "code",
   "execution_count": 6,
   "id": "18083688",
   "metadata": {
    "ExecuteTime": {
     "end_time": "2025-07-06T04:19:21.531816Z",
     "start_time": "2025-07-06T04:19:21.482203Z"
    }
   },
   "outputs": [
    {
     "data": {
      "text/html": [
       "<div>\n",
       "<style scoped>\n",
       "    .dataframe tbody tr th:only-of-type {\n",
       "        vertical-align: middle;\n",
       "    }\n",
       "\n",
       "    .dataframe tbody tr th {\n",
       "        vertical-align: top;\n",
       "    }\n",
       "\n",
       "    .dataframe thead th {\n",
       "        text-align: right;\n",
       "    }\n",
       "</style>\n",
       "<table border=\"1\" class=\"dataframe\">\n",
       "  <thead>\n",
       "    <tr style=\"text-align: right;\">\n",
       "      <th></th>\n",
       "      <th>Rk</th>\n",
       "      <th>Player</th>\n",
       "      <th>Nation</th>\n",
       "      <th>Pos</th>\n",
       "      <th>Squad</th>\n",
       "      <th>Comp</th>\n",
       "      <th>Age</th>\n",
       "      <th>Born</th>\n",
       "      <th>MP</th>\n",
       "      <th>Starts</th>\n",
       "      <th>Min</th>\n",
       "      <th>90s</th>\n",
       "      <th>Gls</th>\n",
       "      <th>Ast</th>\n",
       "      <th>G+A</th>\n",
       "      <th>G-PK</th>\n",
       "      <th>PK</th>\n",
       "      <th>PKatt</th>\n",
       "      <th>CrdY</th>\n",
       "      <th>CrdR</th>\n",
       "      <th>xG</th>\n",
       "      <th>npxG</th>\n",
       "      <th>xAG</th>\n",
       "      <th>npxG+xAG</th>\n",
       "      <th>PrgC</th>\n",
       "      <th>PrgP</th>\n",
       "      <th>PrgR</th>\n",
       "      <th>Gls.1</th>\n",
       "      <th>Ast.1</th>\n",
       "      <th>G+A.1</th>\n",
       "      <th>G-PK.1</th>\n",
       "      <th>G+A-PK</th>\n",
       "      <th>xG.1</th>\n",
       "      <th>xAG.1</th>\n",
       "      <th>xG+xAG</th>\n",
       "      <th>npxG.1</th>\n",
       "      <th>npxG+xAG.1</th>\n",
       "      <th>Matches</th>\n",
       "    </tr>\n",
       "  </thead>\n",
       "  <tbody>\n",
       "    <tr>\n",
       "      <th>0</th>\n",
       "      <td>1</td>\n",
       "      <td>Max Aarons</td>\n",
       "      <td>eng ENG</td>\n",
       "      <td>DF</td>\n",
       "      <td>Bournemouth</td>\n",
       "      <td>eng Premier League</td>\n",
       "      <td>24</td>\n",
       "      <td>2000</td>\n",
       "      <td>3</td>\n",
       "      <td>1</td>\n",
       "      <td>86</td>\n",
       "      <td>1.0</td>\n",
       "      <td>0</td>\n",
       "      <td>0</td>\n",
       "      <td>0</td>\n",
       "      <td>0</td>\n",
       "      <td>0</td>\n",
       "      <td>0</td>\n",
       "      <td>0</td>\n",
       "      <td>0</td>\n",
       "      <td>0.0</td>\n",
       "      <td>0.0</td>\n",
       "      <td>0.0</td>\n",
       "      <td>0.0</td>\n",
       "      <td>1</td>\n",
       "      <td>8</td>\n",
       "      <td>3</td>\n",
       "      <td>0.00</td>\n",
       "      <td>0.00</td>\n",
       "      <td>0.00</td>\n",
       "      <td>0.00</td>\n",
       "      <td>0.00</td>\n",
       "      <td>0.00</td>\n",
       "      <td>0.00</td>\n",
       "      <td>0.00</td>\n",
       "      <td>0.00</td>\n",
       "      <td>0.00</td>\n",
       "      <td>Matches</td>\n",
       "    </tr>\n",
       "    <tr>\n",
       "      <th>1</th>\n",
       "      <td>2</td>\n",
       "      <td>Max Aarons</td>\n",
       "      <td>eng ENG</td>\n",
       "      <td>DF,MF</td>\n",
       "      <td>Valencia</td>\n",
       "      <td>es La Liga</td>\n",
       "      <td>24</td>\n",
       "      <td>2000</td>\n",
       "      <td>4</td>\n",
       "      <td>1</td>\n",
       "      <td>120</td>\n",
       "      <td>1.3</td>\n",
       "      <td>0</td>\n",
       "      <td>0</td>\n",
       "      <td>0</td>\n",
       "      <td>0</td>\n",
       "      <td>0</td>\n",
       "      <td>0</td>\n",
       "      <td>2</td>\n",
       "      <td>0</td>\n",
       "      <td>0.0</td>\n",
       "      <td>0.0</td>\n",
       "      <td>0.0</td>\n",
       "      <td>0.0</td>\n",
       "      <td>0</td>\n",
       "      <td>6</td>\n",
       "      <td>10</td>\n",
       "      <td>0.00</td>\n",
       "      <td>0.00</td>\n",
       "      <td>0.00</td>\n",
       "      <td>0.00</td>\n",
       "      <td>0.00</td>\n",
       "      <td>0.00</td>\n",
       "      <td>0.02</td>\n",
       "      <td>0.02</td>\n",
       "      <td>0.00</td>\n",
       "      <td>0.02</td>\n",
       "      <td>Matches</td>\n",
       "    </tr>\n",
       "    <tr>\n",
       "      <th>2</th>\n",
       "      <td>3</td>\n",
       "      <td>Rodrigo Abajas</td>\n",
       "      <td>es ESP</td>\n",
       "      <td>DF</td>\n",
       "      <td>Valencia</td>\n",
       "      <td>es La Liga</td>\n",
       "      <td>21</td>\n",
       "      <td>2003</td>\n",
       "      <td>1</td>\n",
       "      <td>1</td>\n",
       "      <td>65</td>\n",
       "      <td>0.7</td>\n",
       "      <td>0</td>\n",
       "      <td>0</td>\n",
       "      <td>0</td>\n",
       "      <td>0</td>\n",
       "      <td>0</td>\n",
       "      <td>0</td>\n",
       "      <td>1</td>\n",
       "      <td>0</td>\n",
       "      <td>0.1</td>\n",
       "      <td>0.1</td>\n",
       "      <td>0.0</td>\n",
       "      <td>0.1</td>\n",
       "      <td>3</td>\n",
       "      <td>2</td>\n",
       "      <td>3</td>\n",
       "      <td>0.00</td>\n",
       "      <td>0.00</td>\n",
       "      <td>0.00</td>\n",
       "      <td>0.00</td>\n",
       "      <td>0.00</td>\n",
       "      <td>0.10</td>\n",
       "      <td>0.00</td>\n",
       "      <td>0.10</td>\n",
       "      <td>0.10</td>\n",
       "      <td>0.10</td>\n",
       "      <td>Matches</td>\n",
       "    </tr>\n",
       "    <tr>\n",
       "      <th>3</th>\n",
       "      <td>4</td>\n",
       "      <td>James Abankwah</td>\n",
       "      <td>ie IRL</td>\n",
       "      <td>DF,MF</td>\n",
       "      <td>Udinese</td>\n",
       "      <td>it Serie A</td>\n",
       "      <td>20</td>\n",
       "      <td>2004</td>\n",
       "      <td>6</td>\n",
       "      <td>0</td>\n",
       "      <td>88</td>\n",
       "      <td>1.0</td>\n",
       "      <td>0</td>\n",
       "      <td>0</td>\n",
       "      <td>0</td>\n",
       "      <td>0</td>\n",
       "      <td>0</td>\n",
       "      <td>0</td>\n",
       "      <td>1</td>\n",
       "      <td>0</td>\n",
       "      <td>0.1</td>\n",
       "      <td>0.1</td>\n",
       "      <td>0.0</td>\n",
       "      <td>0.1</td>\n",
       "      <td>3</td>\n",
       "      <td>4</td>\n",
       "      <td>1</td>\n",
       "      <td>0.00</td>\n",
       "      <td>0.00</td>\n",
       "      <td>0.00</td>\n",
       "      <td>0.00</td>\n",
       "      <td>0.00</td>\n",
       "      <td>0.06</td>\n",
       "      <td>0.00</td>\n",
       "      <td>0.06</td>\n",
       "      <td>0.06</td>\n",
       "      <td>0.06</td>\n",
       "      <td>Matches</td>\n",
       "    </tr>\n",
       "    <tr>\n",
       "      <th>4</th>\n",
       "      <td>5</td>\n",
       "      <td>Keyliane Abdallah</td>\n",
       "      <td>fr FRA</td>\n",
       "      <td>FW</td>\n",
       "      <td>Marseille</td>\n",
       "      <td>fr Ligue 1</td>\n",
       "      <td>18</td>\n",
       "      <td>2006</td>\n",
       "      <td>1</td>\n",
       "      <td>0</td>\n",
       "      <td>3</td>\n",
       "      <td>0.0</td>\n",
       "      <td>0</td>\n",
       "      <td>0</td>\n",
       "      <td>0</td>\n",
       "      <td>0</td>\n",
       "      <td>0</td>\n",
       "      <td>0</td>\n",
       "      <td>0</td>\n",
       "      <td>0</td>\n",
       "      <td>0.0</td>\n",
       "      <td>0.0</td>\n",
       "      <td>0.0</td>\n",
       "      <td>0.0</td>\n",
       "      <td>1</td>\n",
       "      <td>0</td>\n",
       "      <td>0</td>\n",
       "      <td>0.00</td>\n",
       "      <td>0.00</td>\n",
       "      <td>0.00</td>\n",
       "      <td>0.00</td>\n",
       "      <td>0.00</td>\n",
       "      <td>0.00</td>\n",
       "      <td>0.00</td>\n",
       "      <td>0.00</td>\n",
       "      <td>0.00</td>\n",
       "      <td>0.00</td>\n",
       "      <td>Matches</td>\n",
       "    </tr>\n",
       "  </tbody>\n",
       "</table>\n",
       "</div>"
      ],
      "text/plain": [
       "  Rk             Player   Nation    Pos        Squad                Comp Age  \\\n",
       "0  1         Max Aarons  eng ENG     DF  Bournemouth  eng Premier League  24   \n",
       "1  2         Max Aarons  eng ENG  DF,MF     Valencia          es La Liga  24   \n",
       "2  3     Rodrigo Abajas   es ESP     DF     Valencia          es La Liga  21   \n",
       "3  4     James Abankwah   ie IRL  DF,MF      Udinese          it Serie A  20   \n",
       "4  5  Keyliane Abdallah   fr FRA     FW    Marseille          fr Ligue 1  18   \n",
       "\n",
       "   Born MP Starts  Min  90s Gls Ast G+A G-PK PK PKatt CrdY CrdR   xG npxG  \\\n",
       "0  2000  3      1   86  1.0   0   0   0    0  0     0    0    0  0.0  0.0   \n",
       "1  2000  4      1  120  1.3   0   0   0    0  0     0    2    0  0.0  0.0   \n",
       "2  2003  1      1   65  0.7   0   0   0    0  0     0    1    0  0.1  0.1   \n",
       "3  2004  6      0   88  1.0   0   0   0    0  0     0    1    0  0.1  0.1   \n",
       "4  2006  1      0    3  0.0   0   0   0    0  0     0    0    0  0.0  0.0   \n",
       "\n",
       "   xAG npxG+xAG PrgC PrgP PrgR Gls.1 Ast.1 G+A.1 G-PK.1 G+A-PK  xG.1 xAG.1  \\\n",
       "0  0.0      0.0    1    8    3  0.00  0.00  0.00   0.00   0.00  0.00  0.00   \n",
       "1  0.0      0.0    0    6   10  0.00  0.00  0.00   0.00   0.00  0.00  0.02   \n",
       "2  0.0      0.1    3    2    3  0.00  0.00  0.00   0.00   0.00  0.10  0.00   \n",
       "3  0.0      0.1    3    4    1  0.00  0.00  0.00   0.00   0.00  0.06  0.00   \n",
       "4  0.0      0.0    1    0    0  0.00  0.00  0.00   0.00   0.00  0.00  0.00   \n",
       "\n",
       "  xG+xAG npxG.1 npxG+xAG.1  Matches  \n",
       "0   0.00   0.00       0.00  Matches  \n",
       "1   0.02   0.00       0.02  Matches  \n",
       "2   0.10   0.10       0.10  Matches  \n",
       "3   0.06   0.06       0.06  Matches  \n",
       "4   0.00   0.00       0.00  Matches  "
      ]
     },
     "execution_count": 6,
     "metadata": {},
     "output_type": "execute_result"
    }
   ],
   "source": [
    "#Explore top 5 rows to understand data\n",
    "df.head(5)"
   ]
  },
  {
   "cell_type": "code",
   "execution_count": 7,
   "id": "b50aa45e",
   "metadata": {
    "ExecuteTime": {
     "end_time": "2025-07-06T04:19:21.541511Z",
     "start_time": "2025-07-06T04:19:21.534653Z"
    }
   },
   "outputs": [
    {
     "data": {
      "text/plain": [
       "(2968, 38)"
      ]
     },
     "execution_count": 7,
     "metadata": {},
     "output_type": "execute_result"
    }
   ],
   "source": [
    "# The dimensions of the DataFrame (rows, columns)\n",
    "df.shape"
   ]
  },
  {
   "cell_type": "markdown",
   "id": "f6d2b8ff",
   "metadata": {},
   "source": [
    "<h2 style=\"color: #2c3e50; font-family: Arial, sans-serif; background-color: #f0f4f8; padding: 12px; border-left: 6px solid #2980b9;\">\n",
    "  🧹 Clean & Organize Data\n",
    "</h2>\n",
    "\n",
    "<ul style=\"font-family: Arial, sans-serif; font-size: 16px; color: #34495e; line-height: 1.6;\">\n",
    "  <li>✅ Remove duplicates, handle missing values, and prepare the dataset for analysis.</li>\n",
    "  <li>✅ Sort the data meaningfully by relevant columns such as date, player name, score, team, etc.</li>\n",
    "  <li>🔄 Transform columns to appropriate data types or formats for better analysis.</li>\n",
    "  <li>✏️ Rename columns to clear, descriptive, and consistent names.</li>\n",
    "  <li>🗑️ Remove unnecessary or irrelevant columns to simplify the dataset and reduce noise.</li>\n",
    "</ul>\n"
   ]
  },
  {
   "cell_type": "code",
   "execution_count": 8,
   "id": "32f8ddfc",
   "metadata": {
    "ExecuteTime": {
     "end_time": "2025-07-06T04:19:21.567096Z",
     "start_time": "2025-07-06T04:19:21.542775Z"
    }
   },
   "outputs": [
    {
     "data": {
      "text/plain": [
       "113"
      ]
     },
     "execution_count": 8,
     "metadata": {},
     "output_type": "execute_result"
    }
   ],
   "source": [
    "# Counts the total number of duplicate rows in the DataFrame\n",
    "df.duplicated().sum()\n"
   ]
  },
  {
   "cell_type": "code",
   "execution_count": 9,
   "id": "2dd2a16a",
   "metadata": {
    "ExecuteTime": {
     "end_time": "2025-07-06T04:19:21.597227Z",
     "start_time": "2025-07-06T04:19:21.571097Z"
    }
   },
   "outputs": [],
   "source": [
    "# Removes all duplicate rows from the DataFrame in-place (modifies the original DataFrame)\n",
    "df.drop_duplicates(inplace=True)"
   ]
  },
  {
   "cell_type": "code",
   "execution_count": 10,
   "id": "2015558b",
   "metadata": {
    "ExecuteTime": {
     "end_time": "2025-07-06T04:19:22.940562Z",
     "start_time": "2025-07-06T04:19:21.601113Z"
    }
   },
   "outputs": [
    {
     "data": {
      "text/plain": [
       "<Axes: >"
      ]
     },
     "execution_count": 10,
     "metadata": {},
     "output_type": "execute_result"
    },
    {
     "data": {
      "image/png": "[encoded data removed]",
      "text/plain": [
       "<Figure size 2500x1000 with 2 Axes>"
      ]
     },
     "metadata": {},
     "output_type": "display_data"
    }
   ],
   "source": [
    "# Visualize the pattern of missing data in the DataFrame using missingno's matrix plot\n",
    "msno.matrix(df)\n"
   ]
  },
  {
   "cell_type": "code",
   "execution_count": 11,
   "id": "406ee648",
   "metadata": {
    "ExecuteTime": {
     "end_time": "2025-07-06T04:19:22.961498Z",
     "start_time": "2025-07-06T04:19:22.944654Z"
    }
   },
   "outputs": [
    {
     "data": {
      "text/plain": [
       "Rk            0\n",
       "Player        0\n",
       "Nation        7\n",
       "Pos           0\n",
       "Squad         0\n",
       "Comp          0\n",
       "Age           8\n",
       "Born          8\n",
       "MP            0\n",
       "Starts        0\n",
       "Min           0\n",
       "90s           0\n",
       "Gls           0\n",
       "Ast           0\n",
       "G+A           0\n",
       "G-PK          0\n",
       "PK            0\n",
       "PKatt         0\n",
       "CrdY          0\n",
       "CrdR          0\n",
       "xG            0\n",
       "npxG          0\n",
       "xAG           0\n",
       "npxG+xAG      0\n",
       "PrgC          0\n",
       "PrgP          0\n",
       "PrgR          0\n",
       "Gls.1         0\n",
       "Ast.1         0\n",
       "G+A.1         0\n",
       "G-PK.1        0\n",
       "G+A-PK        0\n",
       "xG.1          0\n",
       "xAG.1         0\n",
       "xG+xAG        0\n",
       "npxG.1        0\n",
       "npxG+xAG.1    0\n",
       "Matches       0\n",
       "dtype: int64"
      ]
     },
     "execution_count": 11,
     "metadata": {},
     "output_type": "execute_result"
    }
   ],
   "source": [
    "# Count the number of missing (null) values in each column of the DataFrame\n",
    "df.isnull().sum()\n"
   ]
  },
  {
   "cell_type": "code",
   "execution_count": 12,
   "id": "25eb4200",
   "metadata": {
    "ExecuteTime": {
     "end_time": "2025-07-06T04:19:22.984501Z",
     "start_time": "2025-07-06T04:19:22.965357Z"
    }
   },
   "outputs": [],
   "source": [
    "# Remove all rows containing missing (NaN) values\n",
    "# Since there are very few null values, dropping these rows will not significantly affect the dataset\n",
    "df.dropna(inplace=True)\n"
   ]
  },
  {
   "cell_type": "code",
   "execution_count": 13,
   "id": "fed04598",
   "metadata": {
    "ExecuteTime": {
     "end_time": "2025-07-06T04:19:22.994985Z",
     "start_time": "2025-07-06T04:19:22.986728Z"
    }
   },
   "outputs": [],
   "source": [
    "'''Remove unnecessary columns, There is no need of Born year because there is age column,\n",
    "matches and Rk is not needed'''\n",
    "df = df.drop(columns=['Rk', 'Matches', 'Born'])\n"
   ]
  },
  {
   "cell_type": "code",
   "execution_count": 14,
   "id": "7c4cca84",
   "metadata": {
    "ExecuteTime": {
     "end_time": "2025-07-06T04:19:23.037707Z",
     "start_time": "2025-07-06T04:19:23.001781Z"
    }
   },
   "outputs": [
    {
     "data": {
      "text/html": [
       "<div>\n",
       "<style scoped>\n",
       "    .dataframe tbody tr th:only-of-type {\n",
       "        vertical-align: middle;\n",
       "    }\n",
       "\n",
       "    .dataframe tbody tr th {\n",
       "        vertical-align: top;\n",
       "    }\n",
       "\n",
       "    .dataframe thead th {\n",
       "        text-align: right;\n",
       "    }\n",
       "</style>\n",
       "<table border=\"1\" class=\"dataframe\">\n",
       "  <thead>\n",
       "    <tr style=\"text-align: right;\">\n",
       "      <th></th>\n",
       "      <th>Player</th>\n",
       "      <th>Nation</th>\n",
       "      <th>Pos</th>\n",
       "      <th>Squad</th>\n",
       "      <th>Comp</th>\n",
       "      <th>Age</th>\n",
       "      <th>MP</th>\n",
       "      <th>Starts</th>\n",
       "      <th>Min</th>\n",
       "      <th>90s</th>\n",
       "      <th>Gls</th>\n",
       "      <th>Ast</th>\n",
       "      <th>G+A</th>\n",
       "      <th>G-PK</th>\n",
       "      <th>PK</th>\n",
       "      <th>PKatt</th>\n",
       "      <th>CrdY</th>\n",
       "      <th>CrdR</th>\n",
       "      <th>xG</th>\n",
       "      <th>npxG</th>\n",
       "      <th>xAG</th>\n",
       "      <th>npxG+xAG</th>\n",
       "      <th>PrgC</th>\n",
       "      <th>PrgP</th>\n",
       "      <th>PrgR</th>\n",
       "      <th>Gls.1</th>\n",
       "      <th>Ast.1</th>\n",
       "      <th>G+A.1</th>\n",
       "      <th>G-PK.1</th>\n",
       "      <th>G+A-PK</th>\n",
       "      <th>xG.1</th>\n",
       "      <th>xAG.1</th>\n",
       "      <th>xG+xAG</th>\n",
       "      <th>npxG.1</th>\n",
       "      <th>npxG+xAG.1</th>\n",
       "    </tr>\n",
       "  </thead>\n",
       "  <tbody>\n",
       "    <tr>\n",
       "      <th>0</th>\n",
       "      <td>Max Aarons</td>\n",
       "      <td>eng ENG</td>\n",
       "      <td>DF</td>\n",
       "      <td>Bournemouth</td>\n",
       "      <td>eng Premier League</td>\n",
       "      <td>24</td>\n",
       "      <td>3</td>\n",
       "      <td>1</td>\n",
       "      <td>86</td>\n",
       "      <td>1.0</td>\n",
       "      <td>0</td>\n",
       "      <td>0</td>\n",
       "      <td>0</td>\n",
       "      <td>0</td>\n",
       "      <td>0</td>\n",
       "      <td>0</td>\n",
       "      <td>0</td>\n",
       "      <td>0</td>\n",
       "      <td>0.0</td>\n",
       "      <td>0.0</td>\n",
       "      <td>0.0</td>\n",
       "      <td>0.0</td>\n",
       "      <td>1</td>\n",
       "      <td>8</td>\n",
       "      <td>3</td>\n",
       "      <td>0.00</td>\n",
       "      <td>0.00</td>\n",
       "      <td>0.00</td>\n",
       "      <td>0.00</td>\n",
       "      <td>0.00</td>\n",
       "      <td>0.00</td>\n",
       "      <td>0.00</td>\n",
       "      <td>0.00</td>\n",
       "      <td>0.00</td>\n",
       "      <td>0.00</td>\n",
       "    </tr>\n",
       "    <tr>\n",
       "      <th>1</th>\n",
       "      <td>Max Aarons</td>\n",
       "      <td>eng ENG</td>\n",
       "      <td>DF,MF</td>\n",
       "      <td>Valencia</td>\n",
       "      <td>es La Liga</td>\n",
       "      <td>24</td>\n",
       "      <td>4</td>\n",
       "      <td>1</td>\n",
       "      <td>120</td>\n",
       "      <td>1.3</td>\n",
       "      <td>0</td>\n",
       "      <td>0</td>\n",
       "      <td>0</td>\n",
       "      <td>0</td>\n",
       "      <td>0</td>\n",
       "      <td>0</td>\n",
       "      <td>2</td>\n",
       "      <td>0</td>\n",
       "      <td>0.0</td>\n",
       "      <td>0.0</td>\n",
       "      <td>0.0</td>\n",
       "      <td>0.0</td>\n",
       "      <td>0</td>\n",
       "      <td>6</td>\n",
       "      <td>10</td>\n",
       "      <td>0.00</td>\n",
       "      <td>0.00</td>\n",
       "      <td>0.00</td>\n",
       "      <td>0.00</td>\n",
       "      <td>0.00</td>\n",
       "      <td>0.00</td>\n",
       "      <td>0.02</td>\n",
       "      <td>0.02</td>\n",
       "      <td>0.00</td>\n",
       "      <td>0.02</td>\n",
       "    </tr>\n",
       "    <tr>\n",
       "      <th>2</th>\n",
       "      <td>Rodrigo Abajas</td>\n",
       "      <td>es ESP</td>\n",
       "      <td>DF</td>\n",
       "      <td>Valencia</td>\n",
       "      <td>es La Liga</td>\n",
       "      <td>21</td>\n",
       "      <td>1</td>\n",
       "      <td>1</td>\n",
       "      <td>65</td>\n",
       "      <td>0.7</td>\n",
       "      <td>0</td>\n",
       "      <td>0</td>\n",
       "      <td>0</td>\n",
       "      <td>0</td>\n",
       "      <td>0</td>\n",
       "      <td>0</td>\n",
       "      <td>1</td>\n",
       "      <td>0</td>\n",
       "      <td>0.1</td>\n",
       "      <td>0.1</td>\n",
       "      <td>0.0</td>\n",
       "      <td>0.1</td>\n",
       "      <td>3</td>\n",
       "      <td>2</td>\n",
       "      <td>3</td>\n",
       "      <td>0.00</td>\n",
       "      <td>0.00</td>\n",
       "      <td>0.00</td>\n",
       "      <td>0.00</td>\n",
       "      <td>0.00</td>\n",
       "      <td>0.10</td>\n",
       "      <td>0.00</td>\n",
       "      <td>0.10</td>\n",
       "      <td>0.10</td>\n",
       "      <td>0.10</td>\n",
       "    </tr>\n",
       "  </tbody>\n",
       "</table>\n",
       "</div>"
      ],
      "text/plain": [
       "           Player   Nation    Pos        Squad                Comp Age MP  \\\n",
       "0      Max Aarons  eng ENG     DF  Bournemouth  eng Premier League  24  3   \n",
       "1      Max Aarons  eng ENG  DF,MF     Valencia          es La Liga  24  4   \n",
       "2  Rodrigo Abajas   es ESP     DF     Valencia          es La Liga  21  1   \n",
       "\n",
       "  Starts  Min  90s Gls Ast G+A G-PK PK PKatt CrdY CrdR   xG npxG  xAG  \\\n",
       "0      1   86  1.0   0   0   0    0  0     0    0    0  0.0  0.0  0.0   \n",
       "1      1  120  1.3   0   0   0    0  0     0    2    0  0.0  0.0  0.0   \n",
       "2      1   65  0.7   0   0   0    0  0     0    1    0  0.1  0.1  0.0   \n",
       "\n",
       "  npxG+xAG PrgC PrgP PrgR Gls.1 Ast.1 G+A.1 G-PK.1 G+A-PK  xG.1 xAG.1 xG+xAG  \\\n",
       "0      0.0    1    8    3  0.00  0.00  0.00   0.00   0.00  0.00  0.00   0.00   \n",
       "1      0.0    0    6   10  0.00  0.00  0.00   0.00   0.00  0.00  0.02   0.02   \n",
       "2      0.1    3    2    3  0.00  0.00  0.00   0.00   0.00  0.10  0.00   0.10   \n",
       "\n",
       "  npxG.1 npxG+xAG.1  \n",
       "0   0.00       0.00  \n",
       "1   0.00       0.02  \n",
       "2   0.10       0.10  "
      ]
     },
     "execution_count": 14,
     "metadata": {},
     "output_type": "execute_result"
    }
   ],
   "source": [
    "df.head(3)"
   ]
  },
  {
   "cell_type": "code",
   "execution_count": 15,
   "id": "2ee2a798",
   "metadata": {
    "ExecuteTime": {
     "end_time": "2025-07-06T04:19:23.053016Z",
     "start_time": "2025-07-06T04:19:23.041599Z"
    }
   },
   "outputs": [
    {
     "name": "stdout",
     "output_type": "stream",
     "text": [
      "Index(['Player', 'Nation', 'Pos', 'Squad', 'Comp', 'Age', 'MP', 'Starts',\n",
      "       'Min', 'MinutesPer90', 'Goals', 'Assists', 'GoalsAndAssists',\n",
      "       'NonPenaltyGoals', 'PenaltiesScored', 'PenaltiesAttempted', 'CrdY',\n",
      "       'CrdR', 'ExpGoals', 'NPExpGoals', 'ExpAssists', 'NPExpGoalsAndAssists',\n",
      "       'PrgC', 'PrgP', 'PrgR', 'GoalsPer90', 'AssistsPer90',\n",
      "       'GoalsAndAssistsPer90', 'NPGoalsPer90', 'NPGoalsAndAssistsPer90',\n",
      "       'ExpGoalsPer90', 'ExpAssistsPer90', 'ExpGoalsAndAssistsPer90',\n",
      "       'NPExpGoalsPer90', 'NPExpGoalsAndAssistsPer90'],\n",
      "      dtype='object')\n"
     ]
    }
   ],
   "source": [
    "\n",
    "# Define a concise and professional rename dictionary\n",
    "rename_dict = {\n",
    "    'Gls': 'Goals',\n",
    "    'Ast': 'Assists',\n",
    "    'G+A': 'GoalsAndAssists',\n",
    "    'G-PK': 'NonPenaltyGoals',\n",
    "    'xG': 'ExpGoals',\n",
    "    'xAG': 'ExpAssists',\n",
    "    'npxG+xAG': 'NPExpGoalsAndAssists',\n",
    "    '90s': 'MinutesPer90',\n",
    "    'PK': 'PenaltiesScored',\n",
    "    'PKatt': 'PenaltiesAttempted',\n",
    "    'npxG': 'NPExpGoals',\n",
    "    'Gls.1': 'GoalsPer90',\n",
    "    'Ast.1': 'AssistsPer90',\n",
    "    'G+A.1': 'GoalsAndAssistsPer90',\n",
    "    'G-PK.1': 'NPGoalsPer90',\n",
    "    'G+A-PK': 'NPGoalsAndAssistsPer90',\n",
    "    'xG.1': 'ExpGoalsPer90',\n",
    "    'xAG.1': 'ExpAssistsPer90',\n",
    "    'xG+xAG': 'ExpGoalsAndAssistsPer90',\n",
    "    'npxG.1': 'NPExpGoalsPer90',\n",
    "    'npxG+xAG.1': 'NPExpGoalsAndAssistsPer90'\n",
    "}\n",
    "\n",
    "# Rename the columns\n",
    "df = df.rename(columns=rename_dict)\n",
    "\n",
    "# Verify the new column names\n",
    "print(df.columns)"
   ]
  },
  {
   "cell_type": "code",
   "execution_count": 16,
   "id": "1cfdf500",
   "metadata": {
    "ExecuteTime": {
     "end_time": "2025-07-06T04:19:23.067638Z",
     "start_time": "2025-07-06T04:19:23.057058Z"
    }
   },
   "outputs": [
    {
     "data": {
      "text/plain": [
       "0       eng ENG\n",
       "1       eng ENG\n",
       "2        es ESP\n",
       "3        ie IRL\n",
       "4        fr FRA\n",
       "         ...   \n",
       "2962     fr FRA\n",
       "2964     pl POL\n",
       "2965     no NOR\n",
       "2966     ba BIH\n",
       "2967     ba BIH\n",
       "Name: Nation, Length: 2845, dtype: object"
      ]
     },
     "execution_count": 16,
     "metadata": {},
     "output_type": "execute_result"
    }
   ],
   "source": [
    "df['Nation']"
   ]
  },
  {
   "cell_type": "code",
   "execution_count": 17,
   "id": "9ea1d5c4",
   "metadata": {
    "ExecuteTime": {
     "end_time": "2025-07-06T04:19:23.084688Z",
     "start_time": "2025-07-06T04:19:23.070983Z"
    }
   },
   "outputs": [],
   "source": [
    "# Extract country name\n",
    "df['Nation'] = df['Nation'].str.split().str[-1]"
   ]
  },
  {
   "cell_type": "code",
   "execution_count": 18,
   "id": "43650c1a",
   "metadata": {
    "ExecuteTime": {
     "end_time": "2025-07-06T04:19:23.095302Z",
     "start_time": "2025-07-06T04:19:23.087853Z"
    }
   },
   "outputs": [
    {
     "data": {
      "text/plain": [
       "0       eng Premier League\n",
       "1               es La Liga\n",
       "2               es La Liga\n",
       "3               it Serie A\n",
       "4               fr Ligue 1\n",
       "               ...        \n",
       "2962            fr Ligue 1\n",
       "2964            it Serie A\n",
       "2965    eng Premier League\n",
       "2966            it Serie A\n",
       "2967            it Serie A\n",
       "Name: Comp, Length: 2845, dtype: object"
      ]
     },
     "execution_count": 18,
     "metadata": {},
     "output_type": "execute_result"
    }
   ],
   "source": [
    "df['Comp']"
   ]
  },
  {
   "cell_type": "code",
   "execution_count": 19,
   "id": "12e7c861",
   "metadata": {
    "ExecuteTime": {
     "end_time": "2025-07-06T04:19:23.110958Z",
     "start_time": "2025-07-06T04:19:23.100050Z"
    }
   },
   "outputs": [],
   "source": [
    "# Update 'Comp' column by splitting the string at the first space and keeping everything after it\n",
    "df['Comp'] = df['Comp'].str.split(n=1).str[-1]\n"
   ]
  },
  {
   "cell_type": "code",
   "execution_count": 20,
   "id": "9b6cfc8a",
   "metadata": {
    "ExecuteTime": {
     "end_time": "2025-07-06T04:19:23.126467Z",
     "start_time": "2025-07-06T04:19:23.117315Z"
    }
   },
   "outputs": [
    {
     "data": {
      "text/plain": [
       "Comp\n",
       "Serie A           634\n",
       "La Liga           600\n",
       "Premier League    570\n",
       "Ligue 1           551\n",
       "Bundesliga        489\n",
       "Comp                1\n",
       "Name: count, dtype: int64"
      ]
     },
     "execution_count": 20,
     "metadata": {},
     "output_type": "execute_result"
    }
   ],
   "source": [
    "df['Comp'].value_counts()"
   ]
  },
  {
   "cell_type": "code",
   "execution_count": 21,
   "id": "22bacbee",
   "metadata": {
    "ExecuteTime": {
     "end_time": "2025-07-06T04:19:23.139502Z",
     "start_time": "2025-07-06T04:19:23.129602Z"
    }
   },
   "outputs": [],
   "source": [
    "df = df[df['Comp'] != 'Comp']"
   ]
  },
  {
   "cell_type": "code",
   "execution_count": 22,
   "id": "6c1199a7",
   "metadata": {
    "ExecuteTime": {
     "end_time": "2025-07-06T04:19:23.174859Z",
     "start_time": "2025-07-06T04:19:23.141328Z"
    }
   },
   "outputs": [
    {
     "data": {
      "text/html": [
       "<div>\n",
       "<style scoped>\n",
       "    .dataframe tbody tr th:only-of-type {\n",
       "        vertical-align: middle;\n",
       "    }\n",
       "\n",
       "    .dataframe tbody tr th {\n",
       "        vertical-align: top;\n",
       "    }\n",
       "\n",
       "    .dataframe thead th {\n",
       "        text-align: right;\n",
       "    }\n",
       "</style>\n",
       "<table border=\"1\" class=\"dataframe\">\n",
       "  <thead>\n",
       "    <tr style=\"text-align: right;\">\n",
       "      <th></th>\n",
       "      <th>Player</th>\n",
       "      <th>Nation</th>\n",
       "      <th>Pos</th>\n",
       "      <th>Squad</th>\n",
       "      <th>Comp</th>\n",
       "      <th>Age</th>\n",
       "      <th>MP</th>\n",
       "      <th>Starts</th>\n",
       "      <th>Min</th>\n",
       "      <th>MinutesPer90</th>\n",
       "      <th>Goals</th>\n",
       "      <th>Assists</th>\n",
       "      <th>GoalsAndAssists</th>\n",
       "      <th>NonPenaltyGoals</th>\n",
       "      <th>PenaltiesScored</th>\n",
       "      <th>PenaltiesAttempted</th>\n",
       "      <th>CrdY</th>\n",
       "      <th>CrdR</th>\n",
       "      <th>ExpGoals</th>\n",
       "      <th>NPExpGoals</th>\n",
       "      <th>ExpAssists</th>\n",
       "      <th>NPExpGoalsAndAssists</th>\n",
       "      <th>PrgC</th>\n",
       "      <th>PrgP</th>\n",
       "      <th>PrgR</th>\n",
       "      <th>GoalsPer90</th>\n",
       "      <th>AssistsPer90</th>\n",
       "      <th>GoalsAndAssistsPer90</th>\n",
       "      <th>NPGoalsPer90</th>\n",
       "      <th>NPGoalsAndAssistsPer90</th>\n",
       "      <th>ExpGoalsPer90</th>\n",
       "      <th>ExpAssistsPer90</th>\n",
       "      <th>ExpGoalsAndAssistsPer90</th>\n",
       "      <th>NPExpGoalsPer90</th>\n",
       "      <th>NPExpGoalsAndAssistsPer90</th>\n",
       "    </tr>\n",
       "  </thead>\n",
       "  <tbody>\n",
       "    <tr>\n",
       "      <th>0</th>\n",
       "      <td>Max Aarons</td>\n",
       "      <td>ENG</td>\n",
       "      <td>DF</td>\n",
       "      <td>Bournemouth</td>\n",
       "      <td>Premier League</td>\n",
       "      <td>24</td>\n",
       "      <td>3</td>\n",
       "      <td>1</td>\n",
       "      <td>86</td>\n",
       "      <td>1.0</td>\n",
       "      <td>0</td>\n",
       "      <td>0</td>\n",
       "      <td>0</td>\n",
       "      <td>0</td>\n",
       "      <td>0</td>\n",
       "      <td>0</td>\n",
       "      <td>0</td>\n",
       "      <td>0</td>\n",
       "      <td>0.0</td>\n",
       "      <td>0.0</td>\n",
       "      <td>0.0</td>\n",
       "      <td>0.0</td>\n",
       "      <td>1</td>\n",
       "      <td>8</td>\n",
       "      <td>3</td>\n",
       "      <td>0.00</td>\n",
       "      <td>0.00</td>\n",
       "      <td>0.00</td>\n",
       "      <td>0.00</td>\n",
       "      <td>0.00</td>\n",
       "      <td>0.00</td>\n",
       "      <td>0.00</td>\n",
       "      <td>0.00</td>\n",
       "      <td>0.00</td>\n",
       "      <td>0.00</td>\n",
       "    </tr>\n",
       "    <tr>\n",
       "      <th>1</th>\n",
       "      <td>Max Aarons</td>\n",
       "      <td>ENG</td>\n",
       "      <td>DF,MF</td>\n",
       "      <td>Valencia</td>\n",
       "      <td>La Liga</td>\n",
       "      <td>24</td>\n",
       "      <td>4</td>\n",
       "      <td>1</td>\n",
       "      <td>120</td>\n",
       "      <td>1.3</td>\n",
       "      <td>0</td>\n",
       "      <td>0</td>\n",
       "      <td>0</td>\n",
       "      <td>0</td>\n",
       "      <td>0</td>\n",
       "      <td>0</td>\n",
       "      <td>2</td>\n",
       "      <td>0</td>\n",
       "      <td>0.0</td>\n",
       "      <td>0.0</td>\n",
       "      <td>0.0</td>\n",
       "      <td>0.0</td>\n",
       "      <td>0</td>\n",
       "      <td>6</td>\n",
       "      <td>10</td>\n",
       "      <td>0.00</td>\n",
       "      <td>0.00</td>\n",
       "      <td>0.00</td>\n",
       "      <td>0.00</td>\n",
       "      <td>0.00</td>\n",
       "      <td>0.00</td>\n",
       "      <td>0.02</td>\n",
       "      <td>0.02</td>\n",
       "      <td>0.00</td>\n",
       "      <td>0.02</td>\n",
       "    </tr>\n",
       "  </tbody>\n",
       "</table>\n",
       "</div>"
      ],
      "text/plain": [
       "       Player Nation    Pos        Squad            Comp Age MP Starts  Min  \\\n",
       "0  Max Aarons    ENG     DF  Bournemouth  Premier League  24  3      1   86   \n",
       "1  Max Aarons    ENG  DF,MF     Valencia         La Liga  24  4      1  120   \n",
       "\n",
       "  MinutesPer90 Goals Assists GoalsAndAssists NonPenaltyGoals PenaltiesScored  \\\n",
       "0          1.0     0       0               0               0               0   \n",
       "1          1.3     0       0               0               0               0   \n",
       "\n",
       "  PenaltiesAttempted CrdY CrdR ExpGoals NPExpGoals ExpAssists  \\\n",
       "0                  0    0    0      0.0        0.0        0.0   \n",
       "1                  0    2    0      0.0        0.0        0.0   \n",
       "\n",
       "  NPExpGoalsAndAssists PrgC PrgP PrgR GoalsPer90 AssistsPer90  \\\n",
       "0                  0.0    1    8    3       0.00         0.00   \n",
       "1                  0.0    0    6   10       0.00         0.00   \n",
       "\n",
       "  GoalsAndAssistsPer90 NPGoalsPer90 NPGoalsAndAssistsPer90 ExpGoalsPer90  \\\n",
       "0                 0.00         0.00                   0.00          0.00   \n",
       "1                 0.00         0.00                   0.00          0.00   \n",
       "\n",
       "  ExpAssistsPer90 ExpGoalsAndAssistsPer90 NPExpGoalsPer90  \\\n",
       "0            0.00                    0.00            0.00   \n",
       "1            0.02                    0.02            0.00   \n",
       "\n",
       "  NPExpGoalsAndAssistsPer90  \n",
       "0                      0.00  \n",
       "1                      0.02  "
      ]
     },
     "execution_count": 22,
     "metadata": {},
     "output_type": "execute_result"
    }
   ],
   "source": [
    "df.head(2)"
   ]
  },
  {
   "cell_type": "code",
   "execution_count": 23,
   "id": "3a62e01d",
   "metadata": {
    "ExecuteTime": {
     "end_time": "2025-07-06T04:19:23.188880Z",
     "start_time": "2025-07-06T04:19:23.177360Z"
    }
   },
   "outputs": [],
   "source": [
    "# Sort the DataFrame alphabetically by the 'Player' column\n",
    "df = df.sort_values(by='Player')\n"
   ]
  },
  {
   "cell_type": "code",
   "execution_count": 24,
   "id": "2752e3c3",
   "metadata": {
    "ExecuteTime": {
     "end_time": "2025-07-06T04:19:23.201847Z",
     "start_time": "2025-07-06T04:19:23.191148Z"
    }
   },
   "outputs": [],
   "source": [
    "# Reset the DataFrame index after sorting, dropping the old index to get a clean sequential index\n",
    "df = df.reset_index(drop=True)\n"
   ]
  },
  {
   "cell_type": "code",
   "execution_count": 25,
   "id": "5c1dd483",
   "metadata": {
    "ExecuteTime": {
     "end_time": "2025-07-06T04:19:23.237667Z",
     "start_time": "2025-07-06T04:19:23.204838Z"
    }
   },
   "outputs": [
    {
     "data": {
      "text/html": [
       "<div>\n",
       "<style scoped>\n",
       "    .dataframe tbody tr th:only-of-type {\n",
       "        vertical-align: middle;\n",
       "    }\n",
       "\n",
       "    .dataframe tbody tr th {\n",
       "        vertical-align: top;\n",
       "    }\n",
       "\n",
       "    .dataframe thead th {\n",
       "        text-align: right;\n",
       "    }\n",
       "</style>\n",
       "<table border=\"1\" class=\"dataframe\">\n",
       "  <thead>\n",
       "    <tr style=\"text-align: right;\">\n",
       "      <th></th>\n",
       "      <th>Player</th>\n",
       "      <th>Nation</th>\n",
       "      <th>Pos</th>\n",
       "      <th>Squad</th>\n",
       "      <th>Comp</th>\n",
       "      <th>Age</th>\n",
       "      <th>MP</th>\n",
       "      <th>Starts</th>\n",
       "      <th>Min</th>\n",
       "      <th>MinutesPer90</th>\n",
       "      <th>Goals</th>\n",
       "      <th>Assists</th>\n",
       "      <th>GoalsAndAssists</th>\n",
       "      <th>NonPenaltyGoals</th>\n",
       "      <th>PenaltiesScored</th>\n",
       "      <th>PenaltiesAttempted</th>\n",
       "      <th>CrdY</th>\n",
       "      <th>CrdR</th>\n",
       "      <th>ExpGoals</th>\n",
       "      <th>NPExpGoals</th>\n",
       "      <th>ExpAssists</th>\n",
       "      <th>NPExpGoalsAndAssists</th>\n",
       "      <th>PrgC</th>\n",
       "      <th>PrgP</th>\n",
       "      <th>PrgR</th>\n",
       "      <th>GoalsPer90</th>\n",
       "      <th>AssistsPer90</th>\n",
       "      <th>GoalsAndAssistsPer90</th>\n",
       "      <th>NPGoalsPer90</th>\n",
       "      <th>NPGoalsAndAssistsPer90</th>\n",
       "      <th>ExpGoalsPer90</th>\n",
       "      <th>ExpAssistsPer90</th>\n",
       "      <th>ExpGoalsAndAssistsPer90</th>\n",
       "      <th>NPExpGoalsPer90</th>\n",
       "      <th>NPExpGoalsAndAssistsPer90</th>\n",
       "    </tr>\n",
       "  </thead>\n",
       "  <tbody>\n",
       "    <tr>\n",
       "      <th>0</th>\n",
       "      <td>Aaron Ciammaglichella</td>\n",
       "      <td>ITA</td>\n",
       "      <td>MF</td>\n",
       "      <td>Torino</td>\n",
       "      <td>Serie A</td>\n",
       "      <td>19</td>\n",
       "      <td>1</td>\n",
       "      <td>0</td>\n",
       "      <td>1</td>\n",
       "      <td>0.0</td>\n",
       "      <td>0</td>\n",
       "      <td>0</td>\n",
       "      <td>0</td>\n",
       "      <td>0</td>\n",
       "      <td>0</td>\n",
       "      <td>0</td>\n",
       "      <td>0</td>\n",
       "      <td>0</td>\n",
       "      <td>0.0</td>\n",
       "      <td>0.0</td>\n",
       "      <td>0.0</td>\n",
       "      <td>0.0</td>\n",
       "      <td>0</td>\n",
       "      <td>0</td>\n",
       "      <td>0</td>\n",
       "      <td>0.00</td>\n",
       "      <td>0.00</td>\n",
       "      <td>0.00</td>\n",
       "      <td>0.00</td>\n",
       "      <td>0.00</td>\n",
       "      <td>0.00</td>\n",
       "      <td>0.00</td>\n",
       "      <td>0.00</td>\n",
       "      <td>0.00</td>\n",
       "      <td>0.00</td>\n",
       "    </tr>\n",
       "    <tr>\n",
       "      <th>1</th>\n",
       "      <td>Aaron Cresswell</td>\n",
       "      <td>ENG</td>\n",
       "      <td>DF</td>\n",
       "      <td>West Ham</td>\n",
       "      <td>Premier League</td>\n",
       "      <td>34</td>\n",
       "      <td>18</td>\n",
       "      <td>10</td>\n",
       "      <td>824</td>\n",
       "      <td>9.2</td>\n",
       "      <td>0</td>\n",
       "      <td>0</td>\n",
       "      <td>0</td>\n",
       "      <td>0</td>\n",
       "      <td>0</td>\n",
       "      <td>0</td>\n",
       "      <td>3</td>\n",
       "      <td>0</td>\n",
       "      <td>0.2</td>\n",
       "      <td>0.2</td>\n",
       "      <td>1.3</td>\n",
       "      <td>1.6</td>\n",
       "      <td>6</td>\n",
       "      <td>36</td>\n",
       "      <td>4</td>\n",
       "      <td>0.00</td>\n",
       "      <td>0.00</td>\n",
       "      <td>0.00</td>\n",
       "      <td>0.00</td>\n",
       "      <td>0.00</td>\n",
       "      <td>0.03</td>\n",
       "      <td>0.15</td>\n",
       "      <td>0.17</td>\n",
       "      <td>0.03</td>\n",
       "      <td>0.17</td>\n",
       "    </tr>\n",
       "    <tr>\n",
       "      <th>2</th>\n",
       "      <td>Aaron Malouda</td>\n",
       "      <td>FRA</td>\n",
       "      <td>FW</td>\n",
       "      <td>Lille</td>\n",
       "      <td>Ligue 1</td>\n",
       "      <td>18</td>\n",
       "      <td>1</td>\n",
       "      <td>0</td>\n",
       "      <td>2</td>\n",
       "      <td>0.0</td>\n",
       "      <td>0</td>\n",
       "      <td>0</td>\n",
       "      <td>0</td>\n",
       "      <td>0</td>\n",
       "      <td>0</td>\n",
       "      <td>0</td>\n",
       "      <td>0</td>\n",
       "      <td>0</td>\n",
       "      <td>0.0</td>\n",
       "      <td>0.0</td>\n",
       "      <td>0.0</td>\n",
       "      <td>0.0</td>\n",
       "      <td>0</td>\n",
       "      <td>0</td>\n",
       "      <td>0</td>\n",
       "      <td>0.00</td>\n",
       "      <td>0.00</td>\n",
       "      <td>0.00</td>\n",
       "      <td>0.00</td>\n",
       "      <td>0.00</td>\n",
       "      <td>0.00</td>\n",
       "      <td>0.00</td>\n",
       "      <td>0.00</td>\n",
       "      <td>0.00</td>\n",
       "      <td>0.00</td>\n",
       "    </tr>\n",
       "  </tbody>\n",
       "</table>\n",
       "</div>"
      ],
      "text/plain": [
       "                  Player Nation Pos     Squad            Comp Age  MP Starts  \\\n",
       "0  Aaron Ciammaglichella    ITA  MF    Torino         Serie A  19   1      0   \n",
       "1        Aaron Cresswell    ENG  DF  West Ham  Premier League  34  18     10   \n",
       "2          Aaron Malouda    FRA  FW     Lille         Ligue 1  18   1      0   \n",
       "\n",
       "   Min MinutesPer90 Goals Assists GoalsAndAssists NonPenaltyGoals  \\\n",
       "0    1          0.0     0       0               0               0   \n",
       "1  824          9.2     0       0               0               0   \n",
       "2    2          0.0     0       0               0               0   \n",
       "\n",
       "  PenaltiesScored PenaltiesAttempted CrdY CrdR ExpGoals NPExpGoals ExpAssists  \\\n",
       "0               0                  0    0    0      0.0        0.0        0.0   \n",
       "1               0                  0    3    0      0.2        0.2        1.3   \n",
       "2               0                  0    0    0      0.0        0.0        0.0   \n",
       "\n",
       "  NPExpGoalsAndAssists PrgC PrgP PrgR GoalsPer90 AssistsPer90  \\\n",
       "0                  0.0    0    0    0       0.00         0.00   \n",
       "1                  1.6    6   36    4       0.00         0.00   \n",
       "2                  0.0    0    0    0       0.00         0.00   \n",
       "\n",
       "  GoalsAndAssistsPer90 NPGoalsPer90 NPGoalsAndAssistsPer90 ExpGoalsPer90  \\\n",
       "0                 0.00         0.00                   0.00          0.00   \n",
       "1                 0.00         0.00                   0.00          0.03   \n",
       "2                 0.00         0.00                   0.00          0.00   \n",
       "\n",
       "  ExpAssistsPer90 ExpGoalsAndAssistsPer90 NPExpGoalsPer90  \\\n",
       "0            0.00                    0.00            0.00   \n",
       "1            0.15                    0.17            0.03   \n",
       "2            0.00                    0.00            0.00   \n",
       "\n",
       "  NPExpGoalsAndAssistsPer90  \n",
       "0                      0.00  \n",
       "1                      0.17  \n",
       "2                      0.00  "
      ]
     },
     "execution_count": 25,
     "metadata": {},
     "output_type": "execute_result"
    }
   ],
   "source": [
    "df.head(3)"
   ]
  },
  {
   "cell_type": "code",
   "execution_count": 26,
   "id": "5cd4e206",
   "metadata": {
    "ExecuteTime": {
     "end_time": "2025-07-06T04:19:23.260447Z",
     "start_time": "2025-07-06T04:19:23.240415Z"
    }
   },
   "outputs": [
    {
     "name": "stdout",
     "output_type": "stream",
     "text": [
      "<class 'pandas.core.frame.DataFrame'>\n",
      "RangeIndex: 2844 entries, 0 to 2843\n",
      "Data columns (total 35 columns):\n",
      " #   Column                     Non-Null Count  Dtype \n",
      "---  ------                     --------------  ----- \n",
      " 0   Player                     2844 non-null   object\n",
      " 1   Nation                     2844 non-null   object\n",
      " 2   Pos                        2844 non-null   object\n",
      " 3   Squad                      2844 non-null   object\n",
      " 4   Comp                       2844 non-null   object\n",
      " 5   Age                        2844 non-null   object\n",
      " 6   MP                         2844 non-null   object\n",
      " 7   Starts                     2844 non-null   object\n",
      " 8   Min                        2844 non-null   object\n",
      " 9   MinutesPer90               2844 non-null   object\n",
      " 10  Goals                      2844 non-null   object\n",
      " 11  Assists                    2844 non-null   object\n",
      " 12  GoalsAndAssists            2844 non-null   object\n",
      " 13  NonPenaltyGoals            2844 non-null   object\n",
      " 14  PenaltiesScored            2844 non-null   object\n",
      " 15  PenaltiesAttempted         2844 non-null   object\n",
      " 16  CrdY                       2844 non-null   object\n",
      " 17  CrdR                       2844 non-null   object\n",
      " 18  ExpGoals                   2844 non-null   object\n",
      " 19  NPExpGoals                 2844 non-null   object\n",
      " 20  ExpAssists                 2844 non-null   object\n",
      " 21  NPExpGoalsAndAssists       2844 non-null   object\n",
      " 22  PrgC                       2844 non-null   object\n",
      " 23  PrgP                       2844 non-null   object\n",
      " 24  PrgR                       2844 non-null   object\n",
      " 25  GoalsPer90                 2844 non-null   object\n",
      " 26  AssistsPer90               2844 non-null   object\n",
      " 27  GoalsAndAssistsPer90       2844 non-null   object\n",
      " 28  NPGoalsPer90               2844 non-null   object\n",
      " 29  NPGoalsAndAssistsPer90     2844 non-null   object\n",
      " 30  ExpGoalsPer90              2844 non-null   object\n",
      " 31  ExpAssistsPer90            2844 non-null   object\n",
      " 32  ExpGoalsAndAssistsPer90    2844 non-null   object\n",
      " 33  NPExpGoalsPer90            2844 non-null   object\n",
      " 34  NPExpGoalsAndAssistsPer90  2844 non-null   object\n",
      "dtypes: object(35)\n",
      "memory usage: 777.8+ KB\n"
     ]
    }
   ],
   "source": [
    "# Display concise summary of the DataFrame including index dtype, column dtypes, non-null counts, and memory usage\n",
    "df.info()\n"
   ]
  },
  {
   "cell_type": "markdown",
   "id": "937fa7e8",
   "metadata": {
    "ExecuteTime": {
     "end_time": "2025-07-04T10:13:45.134795Z",
     "start_time": "2025-07-04T10:13:45.126381Z"
    }
   },
   "source": [
    "<div style=\"background-color: #e8f4fd; border-left: 5px solid #2196F3; padding: 10px;\">\n",
    "  <strong>Purpose:</strong> This code changes the data types of specific columns to ensure proper format and optimize memory usage.\n",
    "</div>\n"
   ]
  },
  {
   "cell_type": "code",
   "execution_count": 27,
   "id": "35e6b9ad",
   "metadata": {
    "ExecuteTime": {
     "end_time": "2025-07-06T04:19:23.368079Z",
     "start_time": "2025-07-06T04:19:23.262899Z"
    }
   },
   "outputs": [
    {
     "name": "stdout",
     "output_type": "stream",
     "text": [
      "Player                        object\n",
      "Nation                        object\n",
      "Pos                           object\n",
      "Squad                         object\n",
      "Comp                          object\n",
      "Age                            Int64\n",
      "MP                             Int64\n",
      "Starts                         Int64\n",
      "Min                            Int64\n",
      "MinutesPer90                 float64\n",
      "Goals                          Int64\n",
      "Assists                        Int64\n",
      "GoalsAndAssists                Int64\n",
      "NonPenaltyGoals                Int64\n",
      "PenaltiesScored                Int64\n",
      "PenaltiesAttempted             Int64\n",
      "CrdY                           Int64\n",
      "CrdR                           Int64\n",
      "ExpGoals                     float64\n",
      "NPExpGoals                   float64\n",
      "ExpAssists                   float64\n",
      "NPExpGoalsAndAssists         float64\n",
      "PrgC                           Int64\n",
      "PrgP                           Int64\n",
      "PrgR                           Int64\n",
      "GoalsPer90                   float64\n",
      "AssistsPer90                 float64\n",
      "GoalsAndAssistsPer90         float64\n",
      "NPGoalsPer90                 float64\n",
      "NPGoalsAndAssistsPer90       float64\n",
      "ExpGoalsPer90                float64\n",
      "ExpAssistsPer90              float64\n",
      "ExpGoalsAndAssistsPer90      float64\n",
      "NPExpGoalsPer90              float64\n",
      "NPExpGoalsAndAssistsPer90    float64\n",
      "dtype: object\n"
     ]
    }
   ],
   "source": [
    "\n",
    "# Define column groups\n",
    "text_columns = ['Player', 'Nation', 'Pos', 'Squad', 'Comp']\n",
    "int_columns = ['Age', 'MP', 'Starts', 'Min', 'Goals', 'Assists', 'GoalsAndAssists', \n",
    "               'NonPenaltyGoals', 'PenaltiesScored', 'PenaltiesAttempted', 'CrdY', \n",
    "               'CrdR', 'PrgC', 'PrgP', 'PrgR']\n",
    "float_columns = ['MinutesPer90', 'ExpGoals', 'NPExpGoals', 'ExpAssists', \n",
    "                 'NPExpGoalsAndAssists', 'GoalsPer90', 'AssistsPer90', \n",
    "                 'GoalsAndAssistsPer90', 'NPGoalsPer90', 'NPGoalsAndAssistsPer90', \n",
    "                 'ExpGoalsPer90', 'ExpAssistsPer90', 'ExpGoalsAndAssistsPer90', \n",
    "                 'NPExpGoalsPer90', 'NPExpGoalsAndAssistsPer90']\n",
    "\n",
    "# Convert object data type to Int64\n",
    "for col in int_columns:\n",
    "    df[col] = pd.to_numeric(df[col], errors='coerce').astype('Int64')\n",
    "\n",
    "# Convert object data type to float64\n",
    "for col in float_columns:\n",
    "    df[col] = pd.to_numeric(df[col], errors='coerce').astype('float64')\n",
    "\n",
    "# Text columns remain as object (no conversion needed)\n",
    "\n",
    "# Verify data types\n",
    "print(df.dtypes)"
   ]
  },
  {
   "cell_type": "code",
   "execution_count": 28,
   "id": "fb316135",
   "metadata": {
    "ExecuteTime": {
     "end_time": "2025-07-06T04:19:23.839414Z",
     "start_time": "2025-07-06T04:19:23.371859Z"
    }
   },
   "outputs": [],
   "source": [
    "df.to_csv('../Data/cleaned_sports_data.csv')"
   ]
  },
  {
   "cell_type": "code",
   "execution_count": null,
   "id": "d1c75843",
   "metadata": {},
   "outputs": [],
   "source": []
  }
 ],
 "metadata": {
  "kernelspec": {
   "display_name": "Python 3 (ipykernel)",
   "language": "python",
   "name": "python3"
  },
  "language_info": {
   "codemirror_mode": {
    "name": "ipython",
    "version": 3
   },
   "file_extension": ".py",
   "mimetype": "text/x-python",
   "name": "python",
   "nbconvert_exporter": "python",
   "pygments_lexer": "ipython3",
   "version": "3.11.5"
  },
  "toc": {
   "base_numbering": 1,
   "nav_menu": {},
   "number_sections": true,
   "sideBar": true,
   "skip_h1_title": false,
   "title_cell": "Table of Contents",
   "title_sidebar": "Contents",
   "toc_cell": false,
   "toc_position": {},
   "toc_section_display": true,
   "toc_window_display": false
  },
  "varInspector": {
   "cols": {
    "lenName": 16,
    "lenType": 16,
    "lenVar": 40
   },
   "kernels_config": {
    "python": {
     "delete_cmd_postfix": "",
     "delete_cmd_prefix": "del ",
     "library": "var_list.py",
     "varRefreshCmd": "print(var_dic_list())"
    },
    "r": {
     "delete_cmd_postfix": ") ",
     "delete_cmd_prefix": "rm(",
     "library": "var_list.r",
     "varRefreshCmd": "cat(var_dic_list()) "
    }
   },
   "types_to_exclude": [
    "module",
    "function",
    "builtin_function_or_method",
    "instance",
    "_Feature"
   ],
   "window_display": false
  }
 },
 "nbformat": 4,
 "nbformat_minor": 5
}
